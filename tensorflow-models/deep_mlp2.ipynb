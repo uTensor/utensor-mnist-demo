{
 "cells": [
  {
   "cell_type": "markdown",
   "metadata": {},
   "source": [
    "## Imports"
   ]
  },
  {
   "cell_type": "code",
   "execution_count": 1,
   "metadata": {},
   "outputs": [],
   "source": [
    "from __future__ import absolute_import, division, print_function, unicode_literals\n",
    "\n",
    "import tensorflow as tf\n",
    "import numpy as np\n",
    "\n",
    "from tensorflow.keras.layers import Dense, Flatten, Conv2D, MaxPooling2D\n",
    "from tensorflow.keras import Model\n",
    "\n",
    "tf.keras.backend.clear_session()"
   ]
  },
  {
   "cell_type": "markdown",
   "metadata": {},
   "source": [
    "## Load and prepare the [MNIST dataset](http://yann.lecun.com/exdb/mnist/)\n",
    "\n",
    "[tf.keras.datasets.mnist](https://www.tensorflow.org/api_docs/python/tf/keras/datasets/mnist/load_data) returns: ***Tuple of Numpy arrays: (x_train, y_train), (x_test, y_test).***"
   ]
  },
  {
   "cell_type": "code",
   "execution_count": 2,
   "metadata": {},
   "outputs": [],
   "source": [
    "mnist = tf.keras.datasets.mnist\n",
    "\n",
    "(x_train, y_train), (x_test, y_test) = mnist.load_data()\n",
    "x_train, x_test = x_train / 255.0, x_test / 255.0\n",
    "\n",
    "# Add a channels dimension\n",
    "x_train = x_train[..., tf.newaxis]\n",
    "x_test = x_test[..., tf.newaxis]"
   ]
  },
  {
   "cell_type": "markdown",
   "metadata": {},
   "source": [
    "Use tf.data to batch and shuffle the dataset.\n",
    "\n",
    "from_tensor_slices"
   ]
  },
  {
   "cell_type": "code",
   "execution_count": 3,
   "metadata": {},
   "outputs": [],
   "source": [
    "train_ds = tf.data.Dataset.from_tensor_slices(\n",
    "    (x_train, y_train)).shuffle(10000).batch(32)\n",
    "\n",
    "test_ds = tf.data.Dataset.from_tensor_slices((x_test, y_test)).batch(32)"
   ]
  },
  {
   "cell_type": "markdown",
   "metadata": {},
   "source": [
    "## Defining the Model"
   ]
  },
  {
   "cell_type": "code",
   "execution_count": 29,
   "metadata": {},
   "outputs": [],
   "source": [
    "class MyModel(Model):\n",
    "  def __init__(self):\n",
    "    super(MyModel, self).__init__()\n",
    "    self.conv1 = Conv2D(8, 3, activation='relu')\n",
    "    self.pool = MaxPooling2D()\n",
    "    self.flatten = Flatten()\n",
    "    self.d1 = Dense(128, activation='relu')\n",
    "    self.d2 = Dense(10)\n",
    "\n",
    "  def call(self, x):\n",
    "    x0 = self.conv1(x)\n",
    "    x1 = self.pool(x0)\n",
    "    x2 = self.flatten(x1)\n",
    "    x3 = self.d1(x2)\n",
    "    return self.d2(x3)\n"
   ]
  },
  {
   "cell_type": "markdown",
   "metadata": {},
   "source": [
    "Choose an optimizer and loss function for training:"
   ]
  },
  {
   "cell_type": "code",
   "execution_count": 43,
   "metadata": {},
   "outputs": [
    {
     "output_type": "stream",
     "name": "stdout",
     "text": "Model: \"my_model_12\"\n_________________________________________________________________\nLayer (type)                 Output Shape              Param #   \n=================================================================\nconv2d_12 (Conv2D)           (None, 26, 26, 8)         80        \n_________________________________________________________________\nmax_pooling2d_12 (MaxPooling (None, 13, 13, 8)         0         \n_________________________________________________________________\nflatten_12 (Flatten)         (None, 1352)              0         \n_________________________________________________________________\ndense_24 (Dense)             (None, 128)               173184    \n_________________________________________________________________\ndense_25 (Dense)             (None, 10)                1290      \n=================================================================\nTotal params: 174,554\nTrainable params: 174,554\nNon-trainable params: 0\n_________________________________________________________________\n"
    }
   ],
   "source": [
    "# see\n",
    "# https://github.com/tensorflow/tensorflow/blob/e5bf8de410005de06a7ff5393fafdf832ef1d4ad/tensorflow/python/keras/utils/layer_utils.py#L224-L228\n",
    "# https://www.tensorflow.org/api_docs/python/tf/keras/layers/Layer\n",
    "def print_model_summary(model, input_shape):\n",
    "  input_shape_nobatch = input_shape[1:]\n",
    "  model.build(input_shape)\n",
    "  inputs = tf.keras.Input(shape=input_shape_nobatch)\n",
    "  \n",
    "  if not hasattr(model, 'call'):\n",
    "      raise AttributeError(\"User should define 'call' method in sub-class model!\")\n",
    "  \n",
    "  _ = model.call(inputs)\n",
    "  #model.layers[0].output_shape\n",
    "  #model.layers[0].count_params()\n",
    "  #\n",
    "  model.summary()\n",
    "\n",
    "print_model_summary(model, x_train.shape)"
   ]
  },
  {
   "cell_type": "code",
   "execution_count": 5,
   "metadata": {},
   "outputs": [],
   "source": [
    "loss_object = tf.keras.losses.SparseCategoricalCrossentropy(from_logits=True)\n",
    "\n",
    "optimizer = tf.keras.optimizers.Adam()"
   ]
  },
  {
   "cell_type": "code",
   "execution_count": 6,
   "metadata": {},
   "outputs": [],
   "source": [
    "train_loss = tf.keras.metrics.Mean(name='train_loss')\n",
    "train_accuracy = tf.keras.metrics.SparseCategoricalAccuracy(name='train_accuracy')\n",
    "\n",
    "test_loss = tf.keras.metrics.Mean(name='test_loss')\n",
    "test_accuracy = tf.keras.metrics.SparseCategoricalAccuracy(name='test_accuracy')"
   ]
  },
  {
   "cell_type": "code",
   "execution_count": 7,
   "metadata": {},
   "outputs": [],
   "source": [
    "@tf.function\n",
    "def train_step(images, labels):\n",
    "  with tf.GradientTape() as tape:\n",
    "    # training=True is only needed if there are layers with different\n",
    "    # behavior during training versus inference (e.g. Dropout).\n",
    "    predictions = model(images, training=True)\n",
    "    loss = loss_object(labels, predictions)\n",
    "  gradients = tape.gradient(loss, model.trainable_variables)\n",
    "  optimizer.apply_gradients(zip(gradients, model.trainable_variables))\n",
    "\n",
    "  train_loss(loss)\n",
    "  train_accuracy(labels, predictions)"
   ]
  },
  {
   "cell_type": "markdown",
   "metadata": {},
   "source": [
    "Test the model:"
   ]
  },
  {
   "cell_type": "code",
   "execution_count": 8,
   "metadata": {},
   "outputs": [],
   "source": [
    "@tf.function\n",
    "def test_step(images, labels):\n",
    "  # training=False is only needed if there are layers with different\n",
    "  # behavior during training versus inference (e.g. Dropout).\n",
    "  predictions = model(images, training=False)\n",
    "  t_loss = loss_object(labels, predictions)\n",
    "\n",
    "  test_loss(t_loss)\n",
    "  test_accuracy(labels, predictions)"
   ]
  },
  {
   "cell_type": "markdown",
   "metadata": {},
   "source": [
    "## Training step"
   ]
  },
  {
   "cell_type": "code",
   "execution_count": 9,
   "metadata": {},
   "outputs": [
    {
     "output_type": "stream",
     "name": "stdout",
     "text": "WARNING:tensorflow:Layer my_model is casting an input tensor from dtype float64 to the layer's dtype of float32, which is new behavior in TensorFlow 2.  The layer has dtype float32 because it's dtype defaults to floatx.\n\nIf you intended to run this layer in float32, you can safely ignore this warning. If in doubt, this warning is likely only an issue if you are porting a TensorFlow 1.X model to TensorFlow 2.\n\nTo change all layers to have dtype float64 by default, call `tf.keras.backend.set_floatx('float64')`. To change just this layer, pass dtype='float64' to the layer constructor. If you are the author of this layer, you can disable autocasting by passing autocast=False to the base Layer constructor.\n\nEpoch 1, Loss: 0.19169411063194275, Accuracy: 94.48333740234375, Test Loss: 0.07949524372816086, Test Accuracy: 97.47999572753906\nEpoch 2, Loss: 0.06467931717634201, Accuracy: 98.01333618164062, Test Loss: 0.07282432168722153, Test Accuracy: 97.57999420166016\nEpoch 3, Loss: 0.04289546608924866, Accuracy: 98.68500518798828, Test Loss: 0.05411408841609955, Test Accuracy: 98.11000061035156\nEpoch 4, Loss: 0.028869809582829475, Accuracy: 99.09666442871094, Test Loss: 0.04795987159013748, Test Accuracy: 98.45999908447266\nEpoch 5, Loss: 0.021842971444129944, Accuracy: 99.288330078125, Test Loss: 0.04963124915957451, Test Accuracy: 98.54000091552734\nEpoch 6, Loss: 0.01496003195643425, Accuracy: 99.52666473388672, Test Loss: 0.055574435740709305, Test Accuracy: 98.48999786376953\nEpoch 7, Loss: 0.01163477636873722, Accuracy: 99.63666534423828, Test Loss: 0.05019528046250343, Test Accuracy: 98.5999984741211\nEpoch 8, Loss: 0.008443784900009632, Accuracy: 99.72166442871094, Test Loss: 0.05696146935224533, Test Accuracy: 98.48999786376953\n"
    }
   ],
   "source": [
    "EPOCHS = 8\n",
    "\n",
    "for epoch in range(EPOCHS):\n",
    "  # Reset the metrics at the start of the next epoch\n",
    "  train_loss.reset_states()\n",
    "  train_accuracy.reset_states()\n",
    "  test_loss.reset_states()\n",
    "  test_accuracy.reset_states()\n",
    "\n",
    "  for images, labels in train_ds:\n",
    "    train_step(images, labels)\n",
    "\n",
    "  for test_images, test_labels in test_ds:\n",
    "    test_step(test_images, test_labels)\n",
    "\n",
    "  template = 'Epoch {}, Loss: {}, Accuracy: {}, Test Loss: {}, Test Accuracy: {}'\n",
    "  print(template.format(epoch+1,\n",
    "                        train_loss.result(),\n",
    "                        train_accuracy.result()*100,\n",
    "                        test_loss.result(),\n",
    "                        test_accuracy.result()*100))"
   ]
  },
  {
   "cell_type": "markdown",
   "metadata": {},
   "source": [
    "## Testing the Model"
   ]
  },
  {
   "cell_type": "code",
   "execution_count": 10,
   "metadata": {},
   "outputs": [
    {
     "output_type": "stream",
     "name": "stdout",
     "text": "label:  tf.Tensor(7, shape=(), dtype=uint8)\npred:   tf.Tensor(7, shape=(), dtype=int64)\n"
    }
   ],
   "source": [
    "test_image, test_label = next(test_ds.__iter__())\n",
    "test_image = tf.slice(test_image, [0,0,0,0], [1,-1,-1,-1])\n",
    "prediction = model(test_image, training=False)\n",
    "print(\"label: \", test_label[0])\n",
    "print(\"pred:  \", tf.math.argmax(prediction[0]))"
   ]
  },
  {
   "cell_type": "code",
   "execution_count": 11,
   "metadata": {},
   "outputs": [
    {
     "output_type": "stream",
     "name": "stdout",
     "text": "WARNING:tensorflow:From /Users/neiltan/.pyvenv/ml/lib/python3.6/site-packages/tensorflow_core/python/ops/resource_variable_ops.py:1786: calling BaseResourceVariable.__init__ (from tensorflow.python.ops.resource_variable_ops) with constraint is deprecated and will be removed in a future version.\nInstructions for updating:\nIf using Keras pass *_constraint arguments to layers.\nINFO:tensorflow:Assets written to: saved_model/test_model/assets\n"
    }
   ],
   "source": [
    "model.save('saved_model/test_model')"
   ]
  }
 ],
 "metadata": {
  "language_info": {
   "codemirror_mode": {
    "name": "ipython",
    "version": 3
   },
   "file_extension": ".py",
   "mimetype": "text/x-python",
   "name": "python",
   "nbconvert_exporter": "python",
   "pygments_lexer": "ipython3",
   "version": "3.6.8-final"
  },
  "orig_nbformat": 2,
  "kernelspec": {
   "name": "ml",
   "display_name": "ml"
  }
 },
 "nbformat": 4,
 "nbformat_minor": 2
}